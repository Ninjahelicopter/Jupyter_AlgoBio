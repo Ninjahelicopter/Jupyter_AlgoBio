{
 "cells": [
  {
   "cell_type": "code",
   "execution_count": 14,
   "metadata": {},
   "outputs": [],
   "source": [
    "setwd(\"C:/Users/xiaoq/PycharmProjects/Algorithm Bioinfo\")"
   ]
  },
  {
   "cell_type": "code",
   "execution_count": null,
   "metadata": {},
   "outputs": [],
   "source": [
    "## download the data\n",
    "download.file(\"http://kaell.org/files/survivalLIHC.txt\", destfile = \"SurvivalData.txt\")"
   ]
  },
  {
   "cell_type": "code",
   "execution_count": null,
   "metadata": {},
   "outputs": [],
   "source": [
    "SurvivalData = read.delim(\"SurvivalData.txt\", header = TRUE)"
   ]
  },
  {
   "cell_type": "code",
   "execution_count": null,
   "metadata": {},
   "outputs": [],
   "source": [
    "## for later time and event addition in Excel\n",
    "write.csv(SurvivalData, \"SurvivalData_Overall.csv\")"
   ]
  },
  {
   "cell_type": "code",
   "execution_count": null,
   "metadata": {},
   "outputs": [],
   "source": [
    "SurvivalData = SurvivalData[-c(1:6),]\n",
    "row.names(SurvivalData) = SurvivalData$TCGA.IDs\n",
    "SurvivalData = SurvivalData[,-1]"
   ]
  },
  {
   "cell_type": "code",
   "execution_count": null,
   "metadata": {},
   "outputs": [],
   "source": [
    "## Since the R didnt recognise the numeric value in the txt file, I save it in csv and then open it, and also for late transpose.\n",
    "write.csv(SurvivalData, \"SurvivalData.csv\")\n",
    "SurvivalData = read.csv(\"SurvivalData.csv\", header = TRUE)"
   ]
  },
  {
   "cell_type": "code",
   "execution_count": null,
   "metadata": {},
   "outputs": [],
   "source": [
    "## When Reading the file, gene names in the first column was interpret as x, which are the genes. \n",
    "row.names(SurvivalData) = SurvivalData$X\n",
    "SurvivalData = SurvivalData[,-1]\n",
    "View(SurvivalData)"
   ]
  },
  {
   "cell_type": "code",
   "execution_count": null,
   "metadata": {},
   "outputs": [],
   "source": [
    "## The genes(rows) containing value/values of 0 will be removed(They are not intesting).\n",
    "Expression_filter = apply(SurvivalData, 1, function(x) sum(x ==0) ==0)\n",
    "SurvivalData = SurvivalData[Expression_filter,]"
   ]
  },
  {
   "cell_type": "code",
   "execution_count": null,
   "metadata": {},
   "outputs": [],
   "source": [
    "## Filter the genes with low levels(not so intesting)\n",
    "Mean_filter = apply(SurvivalData, 1, function(x) mean(x) > 5)\n",
    "SurvivalData = SurvivalData[Mean_filter,]\n",
    "write.csv(SurvivalData, \"SurvivalData_Filtered.csv\")"
   ]
  },
  {
   "cell_type": "code",
   "execution_count": null,
   "metadata": {},
   "outputs": [],
   "source": [
    "##Combine the \"Event\" and \"Time\" information in Excel after the step above\n",
    "SurvivalData = read.csv(\"SurvivalData_Filtered.csv\")"
   ]
  },
  {
   "cell_type": "code",
   "execution_count": null,
   "metadata": {},
   "outputs": [],
   "source": [
    "## Transpose the data to the format for survival analysis(colanmes = genename, and rownames = patientID)\n",
    "SurvivalData = t(SurvivalData)\n",
    "write.csv(SurvivalData, \"SurvivalData_Filtered_t.csv\")"
   ]
  },
  {
   "cell_type": "code",
   "execution_count": null,
   "metadata": {},
   "outputs": [],
   "source": [
    "## After the above step, Delete the first row(nonsense when saved as csv file by R) in Excel\n",
    "SurvivalData = read.csv(\"SurvivalData_Filtered_t.csv\", header = TRUE)"
   ]
  },
  {
   "cell_type": "code",
   "execution_count": 38,
   "metadata": {},
   "outputs": [],
   "source": [
    "#########################Run the survival analysis(log-rank test)\n",
    "library(tidyverse)\n",
    "library(survival)\n",
    "library(emil)"
   ]
  },
  {
   "cell_type": "code",
   "execution_count": 39,
   "metadata": {},
   "outputs": [],
   "source": [
    "## Define the expression level according to median\n",
    "for (i in colnames(SurvivalData)[c(4:length(SurvivalData))]){\n",
    "  SurvivalData[,i] = ifelse(SurvivalData[,i] > median(SurvivalData[,i]), \"high\", \"low\")\n",
    "}"
   ]
  },
  {
   "cell_type": "code",
   "execution_count": 40,
   "metadata": {
    "scrolled": false
   },
   "outputs": [],
   "source": [
    "## Define the event and time\n",
    "SurvivalData = SurvivalData %>% mutate(Event = ifelse(Status == \"alive\", 1, 0))\n",
    "time <- SurvivalData$LivingDays\n",
    "event <- SurvivalData$Event"
   ]
  },
  {
   "cell_type": "code",
   "execution_count": 41,
   "metadata": {},
   "outputs": [
    {
     "ename": "ERROR",
     "evalue": "Error in survdiff.fit(y, groups, strata.keep, rho): There is only 1 group\n",
     "output_type": "error",
     "traceback": [
      "Error in survdiff.fit(y, groups, strata.keep, rho): There is only 1 group\nTraceback:\n",
      "1. apply(SurvivalData[c(4:5584)], 2, function(x) survdiff(Surv(time, \n .     event) ~ x, data = SurvivalData[c(4:5584)], rho = 0))",
      "2. FUN(newX[, i], ...)",
      "3. survdiff(Surv(time, event) ~ x, data = SurvivalData[c(4:5584)], \n .     rho = 0)   # at line 2 of file <text>",
      "4. survdiff.fit(y, groups, strata.keep, rho)",
      "5. stop(\"There is only 1 group\")"
     ]
    }
   ],
   "source": [
    "## log_rank test with original P values\n",
    "chiscores = apply(SurvivalData[c(4:5584)], 2, function(x) survdiff(Surv(time, event) ~ x, data = SurvivalData[c(4:5584)], rho = 0) )\n",
    "P_valueCalculation = lapply(chiscores, function(x) pvalue(x, log_p = FALSE, n = length(chiscores)))\n",
    "P_values = do.call(rbind, P_valueCalculation)\n",
    "write.csv(P_values, \"all_pvalue.csv\")\n",
    "P_values = read.csv(\"all_pvalue.csv\",sep = \",\")\n",
    "colnames(P_values)[1] = \"Genename\"\n",
    "chiscores = do.call(rbind, chiscores)\n",
    "chiscores = chiscores[,c(1,5)]\n",
    "chiscores = as.data.frame(chiscores)\n",
    "chiscores$Genename = rownames(chiscores)\n",
    "chiscores = merge(chiscores, P_values, by = \"Genename\", all.x = TRUE)\n",
    "colnames(chiscores)[4] = \"P_Value\""
   ]
  },
  {
   "cell_type": "code",
   "execution_count": 42,
   "metadata": {},
   "outputs": [
    {
     "ename": "ERROR",
     "evalue": "Error in View(chiscores): 'View()' not yet supported in the Jupyter R kernel\n",
     "output_type": "error",
     "traceback": [
      "Error in View(chiscores): 'View()' not yet supported in the Jupyter R kernel\nTraceback:\n",
      "1. View(chiscores)",
      "2. stop(sQuote(\"View()\"), \" not yet supported in the Jupyter R kernel\")"
     ]
    }
   ],
   "source": [
    "## Correct the P value by FDR in the dataframe\n",
    "P_val_vec = chiscores[[4]]\n",
    "Pval_FDR = p.adjust(P_val_vec, method = \"fdr\")\n",
    "chiscores = cbind(chiscores, Pval_FDR)\n",
    "View(chiscores)"
   ]
  },
  {
   "cell_type": "code",
   "execution_count": 43,
   "metadata": {},
   "outputs": [
    {
     "data": {
      "text/html": [
       "203"
      ],
      "text/latex": [
       "203"
      ],
      "text/markdown": [
       "203"
      ],
      "text/plain": [
       "[1] 203"
      ]
     },
     "metadata": {},
     "output_type": "display_data"
    },
    {
     "data": {
      "text/html": [
       "0"
      ],
      "text/latex": [
       "0"
      ],
      "text/markdown": [
       "0"
      ],
      "text/plain": [
       "[1] 0"
      ]
     },
     "metadata": {},
     "output_type": "display_data"
    }
   ],
   "source": [
    "##Count the numbers with significant P_values and corrected P values\n",
    "NumberofSigP = nrow(chiscores[which(chiscores$P_Value < 0.05),])\n",
    "NumberofSigCorrectP = nrow(chiscores[which(chiscores$Pval_FDR < 0.05),])\n",
    "NumberofSigP\n",
    "NumberofSigCorrectP"
   ]
  },
  {
   "cell_type": "code",
   "execution_count": null,
   "metadata": {},
   "outputs": [],
   "source": []
  }
 ],
 "metadata": {
  "kernelspec": {
   "display_name": "R",
   "language": "R",
   "name": "ir"
  },
  "language_info": {
   "codemirror_mode": "r",
   "file_extension": ".r",
   "mimetype": "text/x-r-source",
   "name": "R",
   "pygments_lexer": "r",
   "version": "3.5.1"
  }
 },
 "nbformat": 4,
 "nbformat_minor": 2
}
